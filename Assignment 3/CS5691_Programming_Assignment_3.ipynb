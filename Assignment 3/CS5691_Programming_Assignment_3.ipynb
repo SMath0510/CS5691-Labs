{
  "cells": [
    {
      "cell_type": "markdown",
      "metadata": {
        "id": "m1UlA4e0J7HD"
      },
      "source": [
        "# Download the datasets"
      ]
    },
    {
      "cell_type": "code",
      "execution_count": null,
      "metadata": {
        "id": "fpLYaPHeehyz"
      },
      "outputs": [],
      "source": [
        "from IPython.display import clear_output"
      ]
    },
    {
      "cell_type": "code",
      "execution_count": null,
      "metadata": {
        "id": "UgPSm7EdG0mI"
      },
      "outputs": [],
      "source": [
        "# Dataset 1a\n",
        "! gdown 1u_VR07Kee92JrhAGq3VeXFR28uoZgxCX\n",
        "! gdown 1IvZk4IvzHVnEWGFqKZoea_OoqEEagLPs\n",
        "! gdown 1UItAFItujkbAo_RMouBnzBOPZ2306J7K\n",
        "\n",
        "clear_output()"
      ]
    },
    {
      "cell_type": "code",
      "execution_count": null,
      "metadata": {
        "id": "MGJ7xjwrJF0z"
      },
      "outputs": [],
      "source": [
        "# Dataset 1b\n",
        "! gdown 1iAPQ4tZIN1b7p3InunX5KbFd_8xMczVP\n",
        "! gdown 1BJekqgyr8tf_q_c3RQyPSpZNUwh5Ojhs\n",
        "! gdown 1BGG5CgFE3WClWVQPj4NJe_4jcSJ5PatO\n",
        "\n",
        "clear_output()"
      ]
    },
    {
      "cell_type": "code",
      "execution_count": null,
      "metadata": {
        "id": "oYT7t9LxJF20"
      },
      "outputs": [],
      "source": [
        "# Dataset 2\n",
        "! gdown 18nytesvrVSgyEApS9HqDBmop6vp5Rx-s\n",
        "! gdown 1aHIU8LzMreWJyn6roXFFwUA9IIs4Rrmy\n",
        "! gdown 1W0pGwuBlXZ8dnoZhvf8rOJD1zaG_8Htb\n",
        "! gdown 1G5yg9ZF9Wtx5JiIVANISlwdgUBC_d5iP\n",
        "! gdown 1ppBq_NSdtbMO6OGCi0I9mXJd5kGH6n_F\n",
        "! gdown 1QmHYtmKFPLL-3TxMWKa5DI4bHcAq6e5A\n",
        "\n",
        "clear_output()"
      ]
    },
    {
      "cell_type": "markdown",
      "metadata": {
        "id": "-HsY-ASQKHV5"
      },
      "source": [
        "# Imports"
      ]
    },
    {
      "cell_type": "code",
      "execution_count": null,
      "metadata": {
        "id": "Vz_YFT2AKKV2"
      },
      "outputs": [],
      "source": [
        "import pandas as pd\n",
        "import numpy as np\n",
        "\n",
        "from sklearn.svm import SVC\n",
        "from sklearn.inspection import DecisionBoundaryDisplay\n",
        "from sklearn.decomposition import PCA\n",
        "from sklearn.metrics import accuracy_score, confusion_matrix\n",
        "\n",
        "import torch\n",
        "import torch.nn as nn\n",
        "import torch.optim as optim\n",
        "from torch.utils.data import Dataset, DataLoader\n",
        "\n",
        "import matplotlib.pyplot as plt"
      ]
    },
    {
      "cell_type": "markdown",
      "metadata": {
        "id": "Cpk3NskVKDFg"
      },
      "source": [
        "# Perceptron Model"
      ]
    },
    {
      "cell_type": "code",
      "execution_count": null,
      "metadata": {
        "id": "U0IBXL7_KJn_"
      },
      "outputs": [],
      "source": [
        "class Perceptron(nn.Module):\n",
        "    def __init__(self, input_size):\n",
        "        super(Perceptron, self).__init__()\n",
        "        self.linear = nn.Linear(input_size, 1)\n",
        "\n",
        "    def forward(self, x):\n",
        "        out = self.linear(x)\n",
        "        return out, torch.where(out > 0, torch.tensor(1.0, requires_grad=False), torch.tensor(0.0, requires_grad=False))"
      ]
    },
    {
      "cell_type": "markdown",
      "metadata": {
        "id": "8jzAntVlbdSi"
      },
      "source": [
        "# Multi-Layer Feed Forward Neural Network Model"
      ]
    },
    {
      "cell_type": "code",
      "execution_count": null,
      "metadata": {
        "id": "vWa5m5Wubcu5"
      },
      "outputs": [],
      "source": [
        "class MLFFNN(nn.Module):\n",
        "    def __init__(self, input_size, num_hidden_layers, num_hidden_nodes, num_output_nodes):\n",
        "        super(MLFFNN, self).__init__()\n",
        "\n",
        "        self.num_classes = num_output_nodes\n",
        "\n",
        "        self.layers = []\n",
        "\n",
        "        self.layers += [nn.Linear(input_size, num_hidden_nodes[0]), nn.ReLU()]\n",
        "\n",
        "        for i in range(num_hidden_layers - 1):\n",
        "            self.layers += [nn.Linear(num_hidden_nodes[i], num_hidden_nodes[i+1]), nn.ReLU()]\n",
        "\n",
        "        self.layers += [nn.Linear(num_hidden_nodes[-1], num_output_nodes)]\n",
        "\n",
        "        self.fully_connected_layers = nn.Sequential(*self.layers)\n",
        "        self.softmax = nn.Softmax()\n",
        "\n",
        "    def forward(self, input):\n",
        "        outputs = []\n",
        "        for index, layer in enumerate(self.layers):\n",
        "            input = layer(input)\n",
        "            if(index % 2 == 0):\n",
        "                outputs.append(input)\n",
        "\n",
        "        softmax_out = self.softmax(input)\n",
        "        pred = torch.argmax(softmax_out, 1)\n",
        "        return input, pred, outputs"
      ]
    },
    {
      "cell_type": "markdown",
      "metadata": {
        "id": "g36mbL_LBN0t"
      },
      "source": [
        "# Support Vector Machine Model"
      ]
    },
    {
      "cell_type": "code",
      "execution_count": null,
      "metadata": {
        "id": "QpR6shh-BQ3M"
      },
      "outputs": [],
      "source": [
        "def plot_training_data_with_decision_boundary(kernel, X, y, model_name, degree=None, gamma=None):\n",
        "    # Train the SVC\n",
        "    clf = None\n",
        "    if(kernel == \"linear\"):\n",
        "        clf = SVC(kernel=kernel).fit(X, y)\n",
        "    elif(kernel == \"polynomial\"):\n",
        "        clf = SVC(kernel=\"poly\", degree=degree).fit(X, y)\n",
        "    elif(kernel == \"gaussian\"):\n",
        "        clf = SVC(kernel=\"rbf\", gamma=gamma).fit(X, y)\n",
        "\n",
        "    # Settings for plotting\n",
        "    _, ax = plt.subplots(figsize=(10, 8))\n",
        "    x_min, x_max = X[:, 0].min() - 1, X[:, 0].max() + 1\n",
        "    y_min, y_max = X[:, 1].min() - 1, X[:, 1].max() + 1\n",
        "    # x_min, x_max, y_min, y_max = -3, 3, -3, 3\n",
        "    ax.set(xlim=(x_min, x_max), ylim=(y_min, y_max))\n",
        "\n",
        "    # Plot decision boundary and margins\n",
        "    common_params = {\"estimator\": clf, \"X\": X, \"ax\": ax}\n",
        "    DecisionBoundaryDisplay.from_estimator(\n",
        "        **common_params,\n",
        "        response_method=\"predict\",\n",
        "        plot_method=\"pcolormesh\",\n",
        "        alpha=0.3,\n",
        "    )\n",
        "    DecisionBoundaryDisplay.from_estimator(\n",
        "        **common_params,\n",
        "        response_method=\"decision_function\",\n",
        "        plot_method=\"contour\",\n",
        "        levels=[-1, 0, 1],\n",
        "        colors=[\"k\", \"k\", \"k\"],\n",
        "        linestyles=[\"--\", \"-\", \"--\"],\n",
        "    )\n",
        "\n",
        "    # Plot bigger circles around samples that serve as support vectors\n",
        "    ax.scatter(\n",
        "        clf.support_vectors_[:, 0],\n",
        "        clf.support_vectors_[:, 1],\n",
        "        s=250,\n",
        "        facecolors=\"none\",\n",
        "        edgecolors=\"k\",\n",
        "    )\n",
        "    # Plot samples by color and add legend\n",
        "    scatter = ax.scatter(X[:, 0], X[:, 1], c=y, s=150, edgecolors=\"k\")\n",
        "    ax.legend(*scatter.legend_elements(), loc=\"upper right\", title=\"Classes\")\n",
        "    ax.set_title(f\" Decision boundaries of SVM with {kernel} kernel\")\n",
        "\n",
        "    plt.savefig(model_name+\".jpeg\", dpi=300, format=\"jpeg\")\n",
        "    plt.close()\n",
        "\n",
        "    return clf"
      ]
    },
    {
      "cell_type": "markdown",
      "metadata": {
        "id": "OJcTlYltiHum"
      },
      "source": [
        "# DataLoader and Trainer"
      ]
    },
    {
      "cell_type": "code",
      "execution_count": null,
      "metadata": {
        "id": "1Ts0sOyMiPdr"
      },
      "outputs": [],
      "source": [
        "class loader(Dataset):\n",
        "    def __init__(self, X, y, model=None):\n",
        "        self.X = X\n",
        "        self.y = y\n",
        "        self.num_classes = len(torch.unique(y))\n",
        "        self.model = model\n",
        "\n",
        "    def __len__(self):\n",
        "        return self.X.shape[0]\n",
        "\n",
        "    def __getitem__(self, index):\n",
        "        if(self.model == \"perceptron\"):\n",
        "            return self.X[index], self.y[index]\n",
        "        else:\n",
        "            return self.X[index], nn.functional.one_hot(self.y[index], num_classes=self.num_classes)\n",
        "\n",
        "\n",
        "def train(num_epochs, model_name, model, criterion, optimizer, train_loader, train_data, val_data, val_label, surface_plot_epochs=None, verbose=False):\n",
        "    num_samples = len(train_loader)\n",
        "    loss_dict = {\"epoch\" : [], \"loss\" : []}\n",
        "\n",
        "    device = \"cuda\" if torch.cuda.is_available() else \"cpu\"\n",
        "\n",
        "    model = model.to(device)\n",
        "\n",
        "    for epoch in range(num_epochs):\n",
        "        total_loss:float = 0.0\n",
        "        correct = 0\n",
        "\n",
        "        for (input, labels) in train_loader:\n",
        "            model.train()\n",
        "\n",
        "            input = input.to(device)\n",
        "            labels = labels.to(device)\n",
        "\n",
        "            output, pred, _ = model(input)\n",
        "\n",
        "            correct += (pred == torch.argmax(labels, dim=1)).sum().item()\n",
        "\n",
        "            labels = labels.to(torch.float32)\n",
        "            loss = criterion(output, labels)\n",
        "\n",
        "            total_loss += loss.item()\n",
        "\n",
        "            optimizer.zero_grad()\n",
        "            loss.backward()\n",
        "            optimizer.step()\n",
        "\n",
        "        if(surface_plot_epochs is not None and (epoch + 1) in surface_plot_epochs):\n",
        "            plot_node_surface(model, f\"{model_name}, epoch={epoch+1}\", train_data)\n",
        "\n",
        "        if verbose and ((epoch + 1) % 100 == 0):\n",
        "            val_data = val_data.to(device)\n",
        "            val_label = val_label.to(device)\n",
        "            model.eval()\n",
        "            with torch.no_grad():\n",
        "                _, val_pred, _ = model(val_data)\n",
        "                val_correct = (val_pred == val_label).sum().item()\n",
        "            print(f\"Epoch [{epoch+1}/{num_epochs}], Loss: {total_loss / num_samples}, Train Correct: {correct}, Val Correct: {val_correct}\")\n",
        "\n",
        "        if (epoch + 1) % 50 == 0:\n",
        "            loss_dict[\"epoch\"].append(epoch + 1)\n",
        "            loss_dict[\"loss\"].append(total_loss / num_samples)\n",
        "\n",
        "    if surface_plot_epochs is not None:\n",
        "        plot_node_surface(model, f\"{model_name}, epoch={num_epochs}\", train_data)\n",
        "\n",
        "    df = pd.DataFrame(loss_dict)\n",
        "    df.to_csv(f\"{model_name}.csv\", index=False)\n",
        "\n",
        "def train_perceptron(num_epochs, model_name, model, criterion, optimizer, train_loader, val_data, val_label, verbose=False):\n",
        "    num_samples = len(train_loader)\n",
        "    loss_dict = {\"epoch\" : [], \"loss\" : []}\n",
        "\n",
        "    for epoch in range(num_epochs):\n",
        "        total_loss:float = 0.0\n",
        "        correct = 0\n",
        "\n",
        "        for (input, labels) in train_loader:\n",
        "            model.train()\n",
        "\n",
        "            output, pred = model(input)\n",
        "\n",
        "            correct += (pred == labels).sum().item()\n",
        "\n",
        "            loss = criterion(output, labels)\n",
        "\n",
        "            total_loss += loss.item()\n",
        "\n",
        "            optimizer.zero_grad()\n",
        "            loss.backward()\n",
        "            optimizer.step()\n",
        "\n",
        "        if verbose and ((epoch + 1) % 100 == 0):\n",
        "            model.eval()\n",
        "            with torch.no_grad():\n",
        "                _, val_pred = model(val_data)\n",
        "                val_correct = (val_pred == val_label).sum().item()\n",
        "            print(f\"Epoch [{epoch+1}/{num_epochs}], Loss: {total_loss / num_samples}, Train Correct: {correct}, Val Correct: {val_correct}\")\n",
        "\n",
        "        if (epoch + 1) % 50 == 0:\n",
        "            loss_dict[\"epoch\"].append(epoch + 1)\n",
        "            loss_dict[\"loss\"].append(total_loss / num_samples)\n",
        "\n",
        "    df = pd.DataFrame(loss_dict)\n",
        "    df.to_csv(f\"{model_name}.csv\", index=False)\n",
        "\n",
        "\n",
        "def get_accuracy(model, X, y):\n",
        "    device = \"cuda\" if torch.cuda.is_available() else \"cpu\"\n",
        "    model = model.to(device)\n",
        "    X = X.to(device)\n",
        "    y = y.to(device)\n",
        "\n",
        "    _, pred, *args = model(X)\n",
        "    correct = (pred == y).sum().item()\n",
        "    return (correct / y.shape[0])\n",
        "\n",
        "def build_confusion_matrix(model_name, model, X, y):\n",
        "    device = \"cuda\" if torch.cuda.is_available() else \"cpu\"\n",
        "    model = model.to(device)\n",
        "    X = X.to(device)\n",
        "\n",
        "    _, pred, *args = model(X)\n",
        "    pred = pred.cpu().numpy().flatten()\n",
        "    label = y.numpy().flatten()\n",
        "    conf_matrix = confusion_matrix(label, pred)\n",
        "    np.savetxt(f\"{model_name}_confusion_matrix.txt\", conf_matrix, fmt='%d')\n",
        "\n",
        "def build_confusion_matrix_svm(model_name, model, X, y):\n",
        "    pred = model.predict(X)\n",
        "    conf_matrix = confusion_matrix(y, pred)\n",
        "    np.savetxt(f\"{model_name}_confusion_matrix.txt\", conf_matrix, fmt='%d')"
      ]
    },
    {
      "cell_type": "markdown",
      "metadata": {
        "id": "06Puj-qo9MmY"
      },
      "source": [
        "# Plotters"
      ]
    },
    {
      "cell_type": "code",
      "execution_count": null,
      "metadata": {
        "id": "tso7WE_L9Olc"
      },
      "outputs": [],
      "source": [
        "def plot_decision_boundary_perceptron(model, model_name, train_data, train_label):\n",
        "    X_train_numpy = train_data.numpy()\n",
        "    y_train_numpy = train_label.squeeze().numpy()\n",
        "    classes = np.unique(y_train_numpy)\n",
        "\n",
        "    x_min, x_max = X_train_numpy[:, 0].min() - 1, X_train_numpy[:, 0].max() + 1\n",
        "    y_min, y_max = X_train_numpy[:, 1].min() - 1, X_train_numpy[:, 1].max() + 1\n",
        "    xx, yy = np.meshgrid(np.arange(x_min, x_max, 0.01), np.arange(y_min, y_max, 0.01))\n",
        "    grid_input = np.c_[xx.ravel(), yy.ravel()]\n",
        "\n",
        "    grid_input_tensor = torch.from_numpy(grid_input).float()\n",
        "\n",
        "    model.eval()\n",
        "    with torch.no_grad():\n",
        "        _, predictions = model(grid_input_tensor)\n",
        "\n",
        "    Z = predictions.numpy()\n",
        "    Z = Z.reshape(xx.shape)\n",
        "\n",
        "    plt.figure(figsize=(8, 6))\n",
        "    plt.contourf(xx, yy, Z, cmap=plt.cm.RdBu, alpha=0.8)\n",
        "\n",
        "    for class_label in classes:\n",
        "        indices = np.where(y_train_numpy == class_label)\n",
        "        plt.scatter(X_train_numpy[indices, 0], X_train_numpy[indices, 1], s=20, edgecolor=\"k\", label=f'Class {int(class_label)}')\n",
        "\n",
        "    plt.title('Decision Surface of Perceptron Classifier')\n",
        "    plt.xlabel('x1')\n",
        "    plt.ylabel('x2')\n",
        "    plt.legend()\n",
        "    plt.savefig(model_name+\".jpeg\", dpi=300, format=\"jpeg\")\n",
        "    plt.close()\n",
        "\n",
        "def plot_decision_boundary_mlffnn(model, model_name, train_data, train_label):\n",
        "    X_train_numpy = train_data.numpy()\n",
        "    y_train_numpy = train_label.numpy()\n",
        "    classes = np.unique(y_train_numpy)\n",
        "\n",
        "    x_min, x_max = X_train_numpy[:, 0].min() - 1, X_train_numpy[:, 0].max() + 1\n",
        "    y_min, y_max = X_train_numpy[:, 1].min() - 1, X_train_numpy[:, 1].max() + 1\n",
        "    xx, yy = np.meshgrid(np.arange(x_min, x_max, 0.01), np.arange(y_min, y_max, 0.01))\n",
        "    grid_input = np.c_[xx.ravel(), yy.ravel()]\n",
        "\n",
        "    grid_input_tensor = torch.from_numpy(grid_input).float()\n",
        "\n",
        "    device = \"cuda\" if torch.cuda.is_available() else \"cpu\"\n",
        "    model = model.to(device)\n",
        "    grid_input_tensor = grid_input_tensor.to(device)\n",
        "\n",
        "    model.eval()\n",
        "    with torch.no_grad():\n",
        "        _, predictions, _ = model(grid_input_tensor)\n",
        "\n",
        "    Z = predictions.cpu().numpy()\n",
        "    Z = Z.reshape(xx.shape)\n",
        "\n",
        "    plt.figure(figsize=(8, 6))\n",
        "    plt.contourf(xx, yy, Z, cmap=plt.cm.RdBu, alpha=0.8)\n",
        "\n",
        "    for class_label in classes:\n",
        "        indices = np.where(y_train_numpy == class_label)\n",
        "        plt.scatter(X_train_numpy[indices, 0], X_train_numpy[indices, 1], s=20, edgecolor=\"k\", label=f'Class {class_label}')\n",
        "\n",
        "    plt.title('Decision Surface of MLFFNN Classifier')\n",
        "    plt.xlabel('x1')\n",
        "    plt.ylabel('x2')\n",
        "    plt.legend()\n",
        "    plt.savefig(model_name+\".jpeg\", dpi=300, format=\"jpeg\")\n",
        "    plt.close()\n",
        "\n",
        "def plot_decision_boundary_svm(svm, model_name, X, y):\n",
        "    x_min, x_max = X[:, 0].min() - 1, X[:, 0].max() + 1\n",
        "    y_min, y_max = X[:, 1].min() - 1, X[:, 1].max() + 1\n",
        "    xx, yy = np.meshgrid(np.arange(x_min, x_max, 0.01), np.arange(y_min, y_max, 0.01))\n",
        "    grid_input = np.c_[xx.ravel(), yy.ravel()]\n",
        "\n",
        "    Z = svm.predict(grid_input)\n",
        "    Z = Z.reshape(xx.shape)\n",
        "\n",
        "    plt.figure(figsize=(8, 6))\n",
        "    plt.contourf(xx, yy, Z, cmap=plt.cm.RdBu, alpha=0.8)\n",
        "\n",
        "    classes = np.unique(y)\n",
        "    for class_label in classes:\n",
        "        indices = np.where(y == class_label)\n",
        "        plt.scatter(X[indices, 0], X[indices, 1], s=20, edgecolor=\"k\", label=f'Class {class_label}')\n",
        "\n",
        "    plt.title('Decision Boundary of SVM Classifier')\n",
        "    plt.xlabel('Feature 1')\n",
        "    plt.ylabel('Feature 2')\n",
        "    plt.legend()\n",
        "    plt.savefig(model_name+\".jpeg\", dpi=300, format=\"jpeg\")\n",
        "    plt.close()\n",
        "\n",
        "def plot_node_surface(model, model_name, train_data):\n",
        "    X_train_numpy = train_data.numpy()\n",
        "\n",
        "    x_min, x_max = X_train_numpy[:, 0].min() - 1, X_train_numpy[:, 0].max() + 1\n",
        "    y_min, y_max = X_train_numpy[:, 1].min() - 1, X_train_numpy[:, 1].max() + 1\n",
        "    xx, yy = np.meshgrid(np.arange(x_min, x_max, 0.01), np.arange(y_min, y_max, 0.01))\n",
        "    grid_input = np.c_[xx.ravel(), yy.ravel()]\n",
        "\n",
        "    grid_input_tensor = torch.from_numpy(grid_input).float()\n",
        "\n",
        "    device = \"cuda\" if torch.cuda.is_available() else \"cpu\"\n",
        "    model = model.to(device)\n",
        "    grid_input_tensor = grid_input_tensor.to(device)\n",
        "\n",
        "    model.eval()\n",
        "    with torch.no_grad():\n",
        "        _, _, outputs = model(grid_input_tensor)\n",
        "\n",
        "    num_hidden_layers = len(outputs)\n",
        "\n",
        "    for hl in range(num_hidden_layers):\n",
        "        z = outputs[hl].cpu().detach().numpy()\n",
        "        num_nodes = z.shape[1]\n",
        "        for nl in range(num_nodes):\n",
        "            fig = plt.figure(figsize=(8, 6))\n",
        "            ax = fig.add_subplot(111, projection='3d')\n",
        "            z_ = z[:, nl]\n",
        "            z_ = z_.reshape(xx.shape)\n",
        "\n",
        "            ax.plot_surface(xx, yy, z_, cmap=\"viridis\")\n",
        "            if(hl != num_hidden_layers - 1):\n",
        "                plt.title(f\"Surface of node {nl} of hidden layer {hl}\")\n",
        "            else:\n",
        "                plt.title(f\"Surface of node {nl} of output layer\")\n",
        "            plt.xlabel(\"Feature 1\")\n",
        "            plt.ylabel(\"Feature 2\")\n",
        "            plt.savefig(f\"{model_name}, node={nl}, hl={hl}.jpeg\", dpi=300, format=\"jpeg\")\n",
        "            plt.close()"
      ]
    },
    {
      "cell_type": "markdown",
      "metadata": {
        "id": "PFJl1eTdb20b"
      },
      "source": [
        "# Dataset 1a"
      ]
    },
    {
      "cell_type": "code",
      "execution_count": null,
      "metadata": {
        "id": "xs8vdTnEJF7Q"
      },
      "outputs": [],
      "source": [
        "train_df = pd.read_csv(\"./Train-20.csv\")\n",
        "val_df = pd.read_csv(\"./Val-20.csv\")\n",
        "test_df = pd.read_csv(\"./Test-20.csv\")"
      ]
    },
    {
      "cell_type": "markdown",
      "metadata": {
        "id": "pR7I9Y83eL8J"
      },
      "source": [
        "## Perceptron Model"
      ]
    },
    {
      "cell_type": "code",
      "execution_count": null,
      "metadata": {
        "id": "QaB2uvmzcHA2"
      },
      "outputs": [],
      "source": [
        "train_data = torch.tensor(train_df[[\"input1\", \"input2\"]].values, dtype=torch.float32)\n",
        "train_label = torch.tensor(train_df[\"output\"].values, dtype=torch.float32).unsqueeze(1)\n",
        "\n",
        "val_data = torch.tensor(val_df[[\"input1\", \"input2\"]].values, dtype=torch.float32)\n",
        "val_label = torch.tensor(val_df[\"output\"].values, dtype=torch.float32).unsqueeze(1)\n",
        "\n",
        "test_data = torch.tensor(test_df[[\"input1\", \"input2\"]].values, dtype=torch.float32)\n",
        "test_label = torch.tensor(test_df[\"output\"].values, dtype=torch.float32).unsqueeze(1)"
      ]
    },
    {
      "cell_type": "code",
      "execution_count": null,
      "metadata": {
        "id": "NvNs8p2SSIBS"
      },
      "outputs": [],
      "source": [
        "# train the model\n",
        "num_epochs = 500\n",
        "lr = [1, 1e-1, 1e-2, 2e-3, 3e-4, 4e-5]\n",
        "\n",
        "accuracy = {\"lr\" : [], \"Train Accuracy\" : [], \"Val Accuracy\" : [], \"Test Accuracy\" : []}\n",
        "\n",
        "train_loader = DataLoader(loader(train_data, train_label, \"perceptron\"), batch_size = 32, shuffle=True)\n",
        "input_size = train_data.shape[1]\n",
        "\n",
        "best_val_accuracy = 0\n",
        "best_model = -1\n",
        "\n",
        "for index, lr_ in enumerate(lr):\n",
        "    model = Perceptron(input_size)\n",
        "    criterion = nn.BCEWithLogitsLoss()\n",
        "    optimizer = optim.SGD(model.parameters(), lr = lr_)\n",
        "\n",
        "    model_name = f\"perceptron, lr={lr_}\"\n",
        "    train_perceptron(num_epochs, model_name, model, criterion, optimizer, train_loader, val_data, val_label)\n",
        "\n",
        "    torch.save(model.state_dict(), f\"perceptron_model_{index}.pth\")\n",
        "    plot_decision_boundary_perceptron(model, model_name, train_data, train_label)\n",
        "\n",
        "    accuracy[\"lr\"].append(lr_)\n",
        "    accuracy[\"Train Accuracy\"].append(get_accuracy(model, train_data, train_label))\n",
        "    val_accuracy = get_accuracy(model, val_data, val_label)\n",
        "    accuracy[\"Val Accuracy\"].append(val_accuracy)\n",
        "    accuracy[\"Test Accuracy\"].append(get_accuracy(model, test_data, test_label))\n",
        "\n",
        "    if(best_val_accuracy <= val_accuracy):\n",
        "        best_model = index\n",
        "        best_val_accuracy = val_accuracy\n",
        "\n",
        "pd.DataFrame(accuracy).to_csv(\"perceptron_accuracy.csv\", index=False)"
      ]
    },
    {
      "cell_type": "code",
      "execution_count": null,
      "metadata": {
        "colab": {
          "base_uri": "https://localhost:8080/"
        },
        "id": "lO62BMkNYZq7",
        "outputId": "bc5ed678-a001-424f-cff6-442188b58b2d"
      },
      "outputs": [
        {
          "data": {
            "text/plain": [
              "<All keys matched successfully>"
            ]
          },
          "execution_count": 14,
          "metadata": {},
          "output_type": "execute_result"
        }
      ],
      "source": [
        "# load best model\n",
        "final_model = Perceptron(input_size)\n",
        "final_model.load_state_dict(torch.load(f\"perceptron_model_{best_model}.pth\"))"
      ]
    },
    {
      "cell_type": "code",
      "execution_count": null,
      "metadata": {
        "id": "nzvr55DUZS8O"
      },
      "outputs": [],
      "source": [
        "# generate confusion matrix\n",
        "build_confusion_matrix(f\"perceptron_train\", final_model, train_data, train_label)\n",
        "build_confusion_matrix(f\"perceptron_val\", final_model, val_data, val_label)\n",
        "build_confusion_matrix(f\"perceptron_test\", final_model, test_data, test_label)"
      ]
    },
    {
      "cell_type": "markdown",
      "metadata": {
        "id": "Ij2pbLAQQEth"
      },
      "source": [
        "## MLFFNN Model"
      ]
    },
    {
      "cell_type": "code",
      "execution_count": null,
      "metadata": {
        "id": "EdZXfHJXQNJW"
      },
      "outputs": [],
      "source": [
        "train_data = torch.tensor(train_df[[\"input1\", \"input2\"]].values, dtype=torch.float32)\n",
        "train_label = torch.tensor(train_df[\"output\"].values, dtype=torch.int64)\n",
        "\n",
        "val_data = torch.tensor(val_df[[\"input1\", \"input2\"]].values, dtype=torch.float32)\n",
        "val_label = torch.tensor(val_df[\"output\"].values, dtype=torch.int64)\n",
        "\n",
        "test_data = torch.tensor(test_df[[\"input1\", \"input2\"]].values, dtype=torch.float32)\n",
        "test_label = torch.tensor(test_df[\"output\"].values, dtype=torch.int64)"
      ]
    },
    {
      "cell_type": "code",
      "execution_count": null,
      "metadata": {
        "colab": {
          "background_save": true,
          "base_uri": "https://localhost:8080/"
        },
        "id": "fYMQr0_cRN6t",
        "outputId": "b713c9e3-6701-4382-809b-23a6a5d64cd5"
      },
      "outputs": [
        {
          "name": "stderr",
          "output_type": "stream",
          "text": [
            "/usr/local/lib/python3.10/dist-packages/torch/nn/modules/module.py:1518: UserWarning: Implicit dimension choice for softmax has been deprecated. Change the call to include dim=X as an argument.\n",
            "  return self._call_impl(*args, **kwargs)\n",
            "/usr/local/lib/python3.10/dist-packages/torch/nn/modules/module.py:1518: UserWarning: Implicit dimension choice for softmax has been deprecated. Change the call to include dim=X as an argument.\n",
            "  return self._call_impl(*args, **kwargs)\n",
            "/usr/local/lib/python3.10/dist-packages/torch/nn/modules/module.py:1518: UserWarning: Implicit dimension choice for softmax has been deprecated. Change the call to include dim=X as an argument.\n",
            "  return self._call_impl(*args, **kwargs)\n",
            "/usr/local/lib/python3.10/dist-packages/torch/nn/modules/module.py:1518: UserWarning: Implicit dimension choice for softmax has been deprecated. Change the call to include dim=X as an argument.\n",
            "  return self._call_impl(*args, **kwargs)\n",
            "/usr/local/lib/python3.10/dist-packages/torch/nn/modules/module.py:1518: UserWarning: Implicit dimension choice for softmax has been deprecated. Change the call to include dim=X as an argument.\n",
            "  return self._call_impl(*args, **kwargs)\n",
            "/usr/local/lib/python3.10/dist-packages/torch/nn/modules/module.py:1518: UserWarning: Implicit dimension choice for softmax has been deprecated. Change the call to include dim=X as an argument.\n",
            "  return self._call_impl(*args, **kwargs)\n",
            "/usr/local/lib/python3.10/dist-packages/torch/nn/modules/module.py:1518: UserWarning: Implicit dimension choice for softmax has been deprecated. Change the call to include dim=X as an argument.\n",
            "  return self._call_impl(*args, **kwargs)\n",
            "/usr/local/lib/python3.10/dist-packages/torch/nn/modules/module.py:1518: UserWarning: Implicit dimension choice for softmax has been deprecated. Change the call to include dim=X as an argument.\n",
            "  return self._call_impl(*args, **kwargs)\n",
            "/usr/local/lib/python3.10/dist-packages/torch/nn/modules/module.py:1518: UserWarning: Implicit dimension choice for softmax has been deprecated. Change the call to include dim=X as an argument.\n",
            "  return self._call_impl(*args, **kwargs)\n",
            "/usr/local/lib/python3.10/dist-packages/torch/nn/modules/module.py:1518: UserWarning: Implicit dimension choice for softmax has been deprecated. Change the call to include dim=X as an argument.\n",
            "  return self._call_impl(*args, **kwargs)\n",
            "/usr/local/lib/python3.10/dist-packages/torch/nn/modules/module.py:1518: UserWarning: Implicit dimension choice for softmax has been deprecated. Change the call to include dim=X as an argument.\n",
            "  return self._call_impl(*args, **kwargs)\n",
            "/usr/local/lib/python3.10/dist-packages/torch/nn/modules/module.py:1518: UserWarning: Implicit dimension choice for softmax has been deprecated. Change the call to include dim=X as an argument.\n",
            "  return self._call_impl(*args, **kwargs)\n",
            "/usr/local/lib/python3.10/dist-packages/torch/nn/modules/module.py:1518: UserWarning: Implicit dimension choice for softmax has been deprecated. Change the call to include dim=X as an argument.\n",
            "  return self._call_impl(*args, **kwargs)\n",
            "/usr/local/lib/python3.10/dist-packages/torch/nn/modules/module.py:1518: UserWarning: Implicit dimension choice for softmax has been deprecated. Change the call to include dim=X as an argument.\n",
            "  return self._call_impl(*args, **kwargs)\n",
            "/usr/local/lib/python3.10/dist-packages/torch/nn/modules/module.py:1518: UserWarning: Implicit dimension choice for softmax has been deprecated. Change the call to include dim=X as an argument.\n",
            "  return self._call_impl(*args, **kwargs)\n",
            "/usr/local/lib/python3.10/dist-packages/torch/nn/modules/module.py:1518: UserWarning: Implicit dimension choice for softmax has been deprecated. Change the call to include dim=X as an argument.\n",
            "  return self._call_impl(*args, **kwargs)\n",
            "/usr/local/lib/python3.10/dist-packages/torch/nn/modules/module.py:1518: UserWarning: Implicit dimension choice for softmax has been deprecated. Change the call to include dim=X as an argument.\n",
            "  return self._call_impl(*args, **kwargs)\n",
            "/usr/local/lib/python3.10/dist-packages/torch/nn/modules/module.py:1518: UserWarning: Implicit dimension choice for softmax has been deprecated. Change the call to include dim=X as an argument.\n",
            "  return self._call_impl(*args, **kwargs)\n",
            "/usr/local/lib/python3.10/dist-packages/torch/nn/modules/module.py:1518: UserWarning: Implicit dimension choice for softmax has been deprecated. Change the call to include dim=X as an argument.\n",
            "  return self._call_impl(*args, **kwargs)\n",
            "/usr/local/lib/python3.10/dist-packages/torch/nn/modules/module.py:1518: UserWarning: Implicit dimension choice for softmax has been deprecated. Change the call to include dim=X as an argument.\n",
            "  return self._call_impl(*args, **kwargs)\n",
            "/usr/local/lib/python3.10/dist-packages/torch/nn/modules/module.py:1518: UserWarning: Implicit dimension choice for softmax has been deprecated. Change the call to include dim=X as an argument.\n",
            "  return self._call_impl(*args, **kwargs)\n",
            "/usr/local/lib/python3.10/dist-packages/torch/nn/modules/module.py:1518: UserWarning: Implicit dimension choice for softmax has been deprecated. Change the call to include dim=X as an argument.\n",
            "  return self._call_impl(*args, **kwargs)\n",
            "/usr/local/lib/python3.10/dist-packages/torch/nn/modules/module.py:1518: UserWarning: Implicit dimension choice for softmax has been deprecated. Change the call to include dim=X as an argument.\n",
            "  return self._call_impl(*args, **kwargs)\n",
            "/usr/local/lib/python3.10/dist-packages/torch/nn/modules/module.py:1518: UserWarning: Implicit dimension choice for softmax has been deprecated. Change the call to include dim=X as an argument.\n",
            "  return self._call_impl(*args, **kwargs)\n",
            "/usr/local/lib/python3.10/dist-packages/torch/nn/modules/module.py:1518: UserWarning: Implicit dimension choice for softmax has been deprecated. Change the call to include dim=X as an argument.\n",
            "  return self._call_impl(*args, **kwargs)\n"
          ]
        }
      ],
      "source": [
        "num_epochs = 1000\n",
        "num_hidden_nodes = [1, 2, 4, 6]\n",
        "lr = [1e-2, 1e-3, 3e-4]\n",
        "\n",
        "train_loader = DataLoader(loader(train_data, train_label), batch_size = 32, shuffle=True)\n",
        "\n",
        "input_size = train_data.shape[1]\n",
        "\n",
        "best_val_accuracy = 0\n",
        "best_model = -1\n",
        "\n",
        "accuracy = {\"lr\" : [], \"num hidden nodes\" : [], \"Train Accuracy\" : [], \"Val Accuracy\" : [], \"Test Accuracy\" : []}\n",
        "\n",
        "surface_plot_epochs = [1, 5, 20, 100]\n",
        "\n",
        "index = 0\n",
        "\n",
        "for hn in num_hidden_nodes:\n",
        "    for lr_ in lr:\n",
        "        model = MLFFNN(input_size, 1, [hn,], 2)\n",
        "        model_name = f\"mlffnn, hidden_nodes={hn}, lr={lr_}\"\n",
        "\n",
        "        criterion = nn.CrossEntropyLoss()\n",
        "        optimizer = optim.SGD(model.parameters(), lr=lr_)\n",
        "\n",
        "        train(num_epochs, model_name, model, criterion, optimizer, train_loader, train_data, val_data, val_label)\n",
        "\n",
        "        torch.save(model.state_dict(), f\"mlffnn_model_{index}.pth\")\n",
        "\n",
        "        plot_decision_boundary_mlffnn(model, model_name, train_data, train_label)\n",
        "        index += 1\n",
        "\n",
        "        accuracy[\"lr\"].append(lr_)\n",
        "        accuracy[\"num hidden nodes\"].append(hn)\n",
        "        accuracy[\"Train Accuracy\"].append(get_accuracy(model, train_data, train_label))\n",
        "        val_accuracy = get_accuracy(model, val_data, val_label)\n",
        "        accuracy[\"Val Accuracy\"].append(val_accuracy)\n",
        "        accuracy[\"Test Accuracy\"].append(get_accuracy(model, test_data, test_label))\n",
        "\n",
        "        if(best_val_accuracy < val_accuracy):\n",
        "            best_model = index\n",
        "            best_val_accuracy = val_accuracy\n",
        "\n",
        "pd.DataFrame(accuracy).to_csv(\"mlffnn_accuracy.csv\", index=False)"
      ]
    },
    {
      "cell_type": "markdown",
      "metadata": {
        "id": "Y9Z6jQLlYGie"
      },
      "source": [
        "## SVM Model"
      ]
    },
    {
      "cell_type": "code",
      "execution_count": null,
      "metadata": {
        "colab": {
          "background_save": true
        },
        "id": "Z1SbWhJhYJ2x"
      },
      "outputs": [],
      "source": [
        "train_data = np.reshape(train_df[[\"input1\", \"input2\"]].to_numpy(), (-1, 2))\n",
        "train_label = (train_df[\"output\"].astype(int)).to_numpy()\n",
        "\n",
        "val_data = np.reshape(val_df[[\"input1\", \"input2\"]].to_numpy(), (-1, 2))\n",
        "val_label = (val_df[\"output\"].astype(int)).to_numpy()\n",
        "\n",
        "test_data = np.reshape(test_df[[\"input1\", \"input2\"]].to_numpy(), (-1, 2))\n",
        "test_label = (test_df[\"output\"].astype(int)).to_numpy()"
      ]
    },
    {
      "cell_type": "code",
      "execution_count": null,
      "metadata": {
        "colab": {
          "background_save": true
        },
        "id": "yKdCg2r6H0KU"
      },
      "outputs": [],
      "source": [
        "model = plot_training_data_with_decision_boundary(\"linear\", train_data, train_label, \"svm\")"
      ]
    },
    {
      "cell_type": "code",
      "execution_count": null,
      "metadata": {
        "colab": {
          "background_save": true
        },
        "id": "0K4VF8TxYiYD"
      },
      "outputs": [],
      "source": [
        "accuracy = {\"Train Accuracy\" : [], \"Val Accuracy\" : [], \"Test Accuracy\" : []}\n",
        "\n",
        "train_pred = model.predict(train_data)\n",
        "train_accuracy = accuracy_score(train_pred, train_label)\n",
        "accuracy[\"Train Accuracy\"].append(train_accuracy)\n",
        "\n",
        "val_pred = model.predict(val_data)\n",
        "val_accuracy = accuracy_score(val_pred, val_label)\n",
        "accuracy[\"Val Accuracy\"].append(val_accuracy)\n",
        "\n",
        "test_pred = model.predict(test_data)\n",
        "test_accuracy = accuracy_score(test_pred, test_label)\n",
        "accuracy[\"Test Accuracy\"].append(test_accuracy)\n",
        "\n",
        "df = pd.DataFrame(accuracy)\n",
        "df.to_csv(\"svm_linear.csv\", index=False)"
      ]
    },
    {
      "cell_type": "markdown",
      "metadata": {
        "id": "FtAYAg33xi_3"
      },
      "source": [
        "# Dataset 1b"
      ]
    },
    {
      "cell_type": "code",
      "execution_count": null,
      "metadata": {
        "colab": {
          "background_save": true
        },
        "id": "IJ7SqtANxki3"
      },
      "outputs": [],
      "source": [
        "train_df = pd.read_csv(\"./Train-10.csv\")\n",
        "val_df = pd.read_csv(\"./Val-10.csv\")\n",
        "test_df = pd.read_csv(\"./Test-10.csv\")"
      ]
    },
    {
      "cell_type": "markdown",
      "metadata": {
        "id": "zYnT_ZWJxvac"
      },
      "source": [
        "## MLFFNN Model"
      ]
    },
    {
      "cell_type": "code",
      "execution_count": null,
      "metadata": {
        "colab": {
          "background_save": true
        },
        "id": "EKHsZscgxyvn"
      },
      "outputs": [],
      "source": [
        "train_data = torch.tensor(train_df[[\"x1\", \"x2\"]].values, dtype=torch.float32)\n",
        "train_label = torch.tensor(train_df[\"label\"].values, dtype=torch.int64)\n",
        "\n",
        "val_data = torch.tensor(val_df[[\"x1\", \"x2\"]].values, dtype=torch.float32)\n",
        "val_label = torch.tensor(val_df[\"label\"].values, dtype=torch.int64)\n",
        "\n",
        "test_data = torch.tensor(test_df[[\"x1\", \"x2\"]].values, dtype=torch.float32)\n",
        "test_label = torch.tensor(test_df[\"label\"].values, dtype=torch.int64)"
      ]
    },
    {
      "cell_type": "code",
      "execution_count": null,
      "metadata": {
        "colab": {
          "background_save": true
        },
        "id": "gUgRGq_TyDgJ",
        "outputId": "7616f854-f599-4f53-b659-883f59c3d490"
      },
      "outputs": [
        {
          "name": "stdout",
          "output_type": "stream",
          "text": [
            "Training: 1, 1\n"
          ]
        },
        {
          "name": "stderr",
          "output_type": "stream",
          "text": [
            "/usr/local/lib/python3.10/dist-packages/torch/nn/modules/module.py:1518: UserWarning: Implicit dimension choice for softmax has been deprecated. Change the call to include dim=X as an argument.\n",
            "  return self._call_impl(*args, **kwargs)\n",
            "/usr/local/lib/python3.10/dist-packages/torch/nn/modules/module.py:1518: UserWarning: Implicit dimension choice for softmax has been deprecated. Change the call to include dim=X as an argument.\n",
            "  return self._call_impl(*args, **kwargs)\n",
            "/usr/local/lib/python3.10/dist-packages/torch/nn/modules/module.py:1518: UserWarning: Implicit dimension choice for softmax has been deprecated. Change the call to include dim=X as an argument.\n",
            "  return self._call_impl(*args, **kwargs)\n"
          ]
        },
        {
          "name": "stdout",
          "output_type": "stream",
          "text": [
            "Training: 1, 2\n"
          ]
        },
        {
          "name": "stderr",
          "output_type": "stream",
          "text": [
            "/usr/local/lib/python3.10/dist-packages/torch/nn/modules/module.py:1518: UserWarning: Implicit dimension choice for softmax has been deprecated. Change the call to include dim=X as an argument.\n",
            "  return self._call_impl(*args, **kwargs)\n",
            "/usr/local/lib/python3.10/dist-packages/torch/nn/modules/module.py:1518: UserWarning: Implicit dimension choice for softmax has been deprecated. Change the call to include dim=X as an argument.\n",
            "  return self._call_impl(*args, **kwargs)\n"
          ]
        },
        {
          "name": "stdout",
          "output_type": "stream",
          "text": [
            "Training: 1, 4\n"
          ]
        },
        {
          "name": "stderr",
          "output_type": "stream",
          "text": [
            "/usr/local/lib/python3.10/dist-packages/torch/nn/modules/module.py:1518: UserWarning: Implicit dimension choice for softmax has been deprecated. Change the call to include dim=X as an argument.\n",
            "  return self._call_impl(*args, **kwargs)\n",
            "/usr/local/lib/python3.10/dist-packages/torch/nn/modules/module.py:1518: UserWarning: Implicit dimension choice for softmax has been deprecated. Change the call to include dim=X as an argument.\n",
            "  return self._call_impl(*args, **kwargs)\n"
          ]
        },
        {
          "name": "stdout",
          "output_type": "stream",
          "text": [
            "Training: 1, 6\n"
          ]
        },
        {
          "name": "stderr",
          "output_type": "stream",
          "text": [
            "/usr/local/lib/python3.10/dist-packages/torch/nn/modules/module.py:1518: UserWarning: Implicit dimension choice for softmax has been deprecated. Change the call to include dim=X as an argument.\n",
            "  return self._call_impl(*args, **kwargs)\n",
            "/usr/local/lib/python3.10/dist-packages/torch/nn/modules/module.py:1518: UserWarning: Implicit dimension choice for softmax has been deprecated. Change the call to include dim=X as an argument.\n",
            "  return self._call_impl(*args, **kwargs)\n"
          ]
        },
        {
          "name": "stdout",
          "output_type": "stream",
          "text": [
            "Training: 2, 1\n"
          ]
        },
        {
          "name": "stderr",
          "output_type": "stream",
          "text": [
            "/usr/local/lib/python3.10/dist-packages/torch/nn/modules/module.py:1518: UserWarning: Implicit dimension choice for softmax has been deprecated. Change the call to include dim=X as an argument.\n",
            "  return self._call_impl(*args, **kwargs)\n",
            "/usr/local/lib/python3.10/dist-packages/torch/nn/modules/module.py:1518: UserWarning: Implicit dimension choice for softmax has been deprecated. Change the call to include dim=X as an argument.\n",
            "  return self._call_impl(*args, **kwargs)\n"
          ]
        },
        {
          "name": "stdout",
          "output_type": "stream",
          "text": [
            "Training: 2, 2\n"
          ]
        },
        {
          "name": "stderr",
          "output_type": "stream",
          "text": [
            "/usr/local/lib/python3.10/dist-packages/torch/nn/modules/module.py:1518: UserWarning: Implicit dimension choice for softmax has been deprecated. Change the call to include dim=X as an argument.\n",
            "  return self._call_impl(*args, **kwargs)\n",
            "/usr/local/lib/python3.10/dist-packages/torch/nn/modules/module.py:1518: UserWarning: Implicit dimension choice for softmax has been deprecated. Change the call to include dim=X as an argument.\n",
            "  return self._call_impl(*args, **kwargs)\n"
          ]
        },
        {
          "name": "stdout",
          "output_type": "stream",
          "text": [
            "Training: 2, 4\n"
          ]
        },
        {
          "name": "stderr",
          "output_type": "stream",
          "text": [
            "/usr/local/lib/python3.10/dist-packages/torch/nn/modules/module.py:1518: UserWarning: Implicit dimension choice for softmax has been deprecated. Change the call to include dim=X as an argument.\n",
            "  return self._call_impl(*args, **kwargs)\n",
            "/usr/local/lib/python3.10/dist-packages/torch/nn/modules/module.py:1518: UserWarning: Implicit dimension choice for softmax has been deprecated. Change the call to include dim=X as an argument.\n",
            "  return self._call_impl(*args, **kwargs)\n"
          ]
        },
        {
          "name": "stdout",
          "output_type": "stream",
          "text": [
            "Training: 2, 6\n"
          ]
        },
        {
          "name": "stderr",
          "output_type": "stream",
          "text": [
            "/usr/local/lib/python3.10/dist-packages/torch/nn/modules/module.py:1518: UserWarning: Implicit dimension choice for softmax has been deprecated. Change the call to include dim=X as an argument.\n",
            "  return self._call_impl(*args, **kwargs)\n",
            "/usr/local/lib/python3.10/dist-packages/torch/nn/modules/module.py:1518: UserWarning: Implicit dimension choice for softmax has been deprecated. Change the call to include dim=X as an argument.\n",
            "  return self._call_impl(*args, **kwargs)\n"
          ]
        },
        {
          "name": "stdout",
          "output_type": "stream",
          "text": [
            "Training: 4, 1\n"
          ]
        },
        {
          "name": "stderr",
          "output_type": "stream",
          "text": [
            "/usr/local/lib/python3.10/dist-packages/torch/nn/modules/module.py:1518: UserWarning: Implicit dimension choice for softmax has been deprecated. Change the call to include dim=X as an argument.\n",
            "  return self._call_impl(*args, **kwargs)\n",
            "/usr/local/lib/python3.10/dist-packages/torch/nn/modules/module.py:1518: UserWarning: Implicit dimension choice for softmax has been deprecated. Change the call to include dim=X as an argument.\n",
            "  return self._call_impl(*args, **kwargs)\n"
          ]
        },
        {
          "name": "stdout",
          "output_type": "stream",
          "text": [
            "Training: 4, 2\n"
          ]
        },
        {
          "name": "stderr",
          "output_type": "stream",
          "text": [
            "/usr/local/lib/python3.10/dist-packages/torch/nn/modules/module.py:1518: UserWarning: Implicit dimension choice for softmax has been deprecated. Change the call to include dim=X as an argument.\n",
            "  return self._call_impl(*args, **kwargs)\n",
            "/usr/local/lib/python3.10/dist-packages/torch/nn/modules/module.py:1518: UserWarning: Implicit dimension choice for softmax has been deprecated. Change the call to include dim=X as an argument.\n",
            "  return self._call_impl(*args, **kwargs)\n"
          ]
        },
        {
          "name": "stdout",
          "output_type": "stream",
          "text": [
            "Training: 4, 4\n"
          ]
        },
        {
          "name": "stderr",
          "output_type": "stream",
          "text": [
            "/usr/local/lib/python3.10/dist-packages/torch/nn/modules/module.py:1518: UserWarning: Implicit dimension choice for softmax has been deprecated. Change the call to include dim=X as an argument.\n",
            "  return self._call_impl(*args, **kwargs)\n",
            "/usr/local/lib/python3.10/dist-packages/torch/nn/modules/module.py:1518: UserWarning: Implicit dimension choice for softmax has been deprecated. Change the call to include dim=X as an argument.\n",
            "  return self._call_impl(*args, **kwargs)\n"
          ]
        },
        {
          "name": "stdout",
          "output_type": "stream",
          "text": [
            "Training: 4, 6\n"
          ]
        },
        {
          "name": "stderr",
          "output_type": "stream",
          "text": [
            "/usr/local/lib/python3.10/dist-packages/torch/nn/modules/module.py:1518: UserWarning: Implicit dimension choice for softmax has been deprecated. Change the call to include dim=X as an argument.\n",
            "  return self._call_impl(*args, **kwargs)\n",
            "/usr/local/lib/python3.10/dist-packages/torch/nn/modules/module.py:1518: UserWarning: Implicit dimension choice for softmax has been deprecated. Change the call to include dim=X as an argument.\n",
            "  return self._call_impl(*args, **kwargs)\n"
          ]
        },
        {
          "name": "stdout",
          "output_type": "stream",
          "text": [
            "Training: 6, 1\n"
          ]
        },
        {
          "name": "stderr",
          "output_type": "stream",
          "text": [
            "/usr/local/lib/python3.10/dist-packages/torch/nn/modules/module.py:1518: UserWarning: Implicit dimension choice for softmax has been deprecated. Change the call to include dim=X as an argument.\n",
            "  return self._call_impl(*args, **kwargs)\n",
            "/usr/local/lib/python3.10/dist-packages/torch/nn/modules/module.py:1518: UserWarning: Implicit dimension choice for softmax has been deprecated. Change the call to include dim=X as an argument.\n",
            "  return self._call_impl(*args, **kwargs)\n"
          ]
        },
        {
          "name": "stdout",
          "output_type": "stream",
          "text": [
            "Training: 6, 2\n"
          ]
        },
        {
          "name": "stderr",
          "output_type": "stream",
          "text": [
            "/usr/local/lib/python3.10/dist-packages/torch/nn/modules/module.py:1518: UserWarning: Implicit dimension choice for softmax has been deprecated. Change the call to include dim=X as an argument.\n",
            "  return self._call_impl(*args, **kwargs)\n",
            "/usr/local/lib/python3.10/dist-packages/torch/nn/modules/module.py:1518: UserWarning: Implicit dimension choice for softmax has been deprecated. Change the call to include dim=X as an argument.\n",
            "  return self._call_impl(*args, **kwargs)\n"
          ]
        },
        {
          "name": "stdout",
          "output_type": "stream",
          "text": [
            "Training: 6, 4\n"
          ]
        },
        {
          "name": "stderr",
          "output_type": "stream",
          "text": [
            "/usr/local/lib/python3.10/dist-packages/torch/nn/modules/module.py:1518: UserWarning: Implicit dimension choice for softmax has been deprecated. Change the call to include dim=X as an argument.\n",
            "  return self._call_impl(*args, **kwargs)\n",
            "/usr/local/lib/python3.10/dist-packages/torch/nn/modules/module.py:1518: UserWarning: Implicit dimension choice for softmax has been deprecated. Change the call to include dim=X as an argument.\n",
            "  return self._call_impl(*args, **kwargs)\n"
          ]
        },
        {
          "name": "stdout",
          "output_type": "stream",
          "text": [
            "Training: 6, 6\n"
          ]
        },
        {
          "name": "stderr",
          "output_type": "stream",
          "text": [
            "/usr/local/lib/python3.10/dist-packages/torch/nn/modules/module.py:1518: UserWarning: Implicit dimension choice for softmax has been deprecated. Change the call to include dim=X as an argument.\n",
            "  return self._call_impl(*args, **kwargs)\n",
            "/usr/local/lib/python3.10/dist-packages/torch/nn/modules/module.py:1518: UserWarning: Implicit dimension choice for softmax has been deprecated. Change the call to include dim=X as an argument.\n",
            "  return self._call_impl(*args, **kwargs)\n"
          ]
        }
      ],
      "source": [
        "num_epochs = 1000\n",
        "num_hidden_nodes = [1, 2, 4, 6]\n",
        "lr = 1e-3\n",
        "\n",
        "train_loader = DataLoader(loader(train_data, train_label), batch_size = 64, shuffle=True)\n",
        "\n",
        "input_size = train_data.shape[1]\n",
        "\n",
        "best_val_accuracy = 0\n",
        "best_model = -1\n",
        "\n",
        "accuracy = {\"num hidden nodes 1\" : [], \"num hidden nodes 2\" : [], \"Train Accuracy\" : [], \"Val Accuracy\" : [], \"Test Accuracy\" : []}\n",
        "\n",
        "index = 0\n",
        "\n",
        "for hn1 in num_hidden_nodes:\n",
        "    for hn2 in num_hidden_nodes:\n",
        "        print(f\"Training: {hn1}, {hn2}\")\n",
        "        model = MLFFNN(input_size, 2, [hn1, hn2], 2)\n",
        "        model_name = f\"mlffnn, hidden_nodes1={hn1}, hidden_nodes2={hn2}\"\n",
        "\n",
        "        criterion = nn.CrossEntropyLoss()\n",
        "        optimizer = optim.SGD(model.parameters(), lr=lr)\n",
        "\n",
        "        train(num_epochs, model_name, model, criterion, optimizer, train_loader, train_data, val_data, val_label)\n",
        "\n",
        "        torch.save(model.state_dict(), f\"mlffnn_model_{index}.pth\")\n",
        "\n",
        "        plot_decision_boundary_mlffnn(model, model_name, train_data, train_label)\n",
        "\n",
        "        accuracy[\"num hidden nodes 1\"].append(hn1)\n",
        "        accuracy[\"num hidden nodes 2\"].append(hn2)\n",
        "        accuracy[\"Train Accuracy\"].append(get_accuracy(model, train_data, train_label))\n",
        "        val_accuracy = get_accuracy(model, val_data, val_label)\n",
        "        accuracy[\"Val Accuracy\"].append(val_accuracy)\n",
        "        accuracy[\"Test Accuracy\"].append(get_accuracy(model, test_data, test_label))\n",
        "\n",
        "        if(best_val_accuracy < val_accuracy):\n",
        "            best_model = index\n",
        "            best_val_accuracy = val_accuracy\n",
        "\n",
        "        index += 1\n",
        "\n",
        "pd.DataFrame(accuracy).to_csv(\"mlffnn_accuracy.csv\", index=False)"
      ]
    },
    {
      "cell_type": "code",
      "execution_count": null,
      "metadata": {
        "colab": {
          "background_save": true
        },
        "id": "fE6k3Q6JI1JX"
      },
      "outputs": [],
      "source": [
        "# in this run, 6, 4 was the best model\n",
        "model = MLFFNN(input_size, 2, [6, 4], 2)\n",
        "model_name = \"mlffnn, hidden_nodes1=6, hidden_nodes2=4,\"\n",
        "criterion = nn.CrossEntropyLoss()\n",
        "optimizer = optim.SGD(model.parameters(), lr=1e-3)\n",
        "\n",
        "train_loader = DataLoader(loader(train_data, train_label), batch_size = 64, shuffle=True)\n",
        "\n",
        "surface_plot_epochs = [1, 5, 20, 100]\n",
        "num_epochs = 1000"
      ]
    },
    {
      "cell_type": "code",
      "execution_count": null,
      "metadata": {
        "colab": {
          "background_save": true
        },
        "id": "daqqngf2JRW0",
        "outputId": "5ed88fe2-74c1-4d7b-b850-2b47256b1dd7"
      },
      "outputs": [
        {
          "name": "stderr",
          "output_type": "stream",
          "text": [
            "/usr/local/lib/python3.10/dist-packages/torch/nn/modules/module.py:1518: UserWarning: Implicit dimension choice for softmax has been deprecated. Change the call to include dim=X as an argument.\n",
            "  return self._call_impl(*args, **kwargs)\n",
            "/usr/local/lib/python3.10/dist-packages/torch/nn/modules/module.py:1518: UserWarning: Implicit dimension choice for softmax has been deprecated. Change the call to include dim=X as an argument.\n",
            "  return self._call_impl(*args, **kwargs)\n",
            "/usr/local/lib/python3.10/dist-packages/torch/nn/modules/module.py:1518: UserWarning: Implicit dimension choice for softmax has been deprecated. Change the call to include dim=X as an argument.\n",
            "  return self._call_impl(*args, **kwargs)\n",
            "/usr/local/lib/python3.10/dist-packages/torch/nn/modules/module.py:1518: UserWarning: Implicit dimension choice for softmax has been deprecated. Change the call to include dim=X as an argument.\n",
            "  return self._call_impl(*args, **kwargs)\n",
            "/usr/local/lib/python3.10/dist-packages/torch/nn/modules/module.py:1518: UserWarning: Implicit dimension choice for softmax has been deprecated. Change the call to include dim=X as an argument.\n",
            "  return self._call_impl(*args, **kwargs)\n"
          ]
        }
      ],
      "source": [
        "train(num_epochs, model_name, model, criterion, optimizer, train_loader, train_data, val_data, val_label, surface_plot_epochs)"
      ]
    },
    {
      "cell_type": "code",
      "execution_count": null,
      "metadata": {
        "colab": {
          "background_save": true
        },
        "id": "cK7bmFCAMhm6",
        "outputId": "ab3d5ce9-db1c-47d0-f0b4-6de32389eca0"
      },
      "outputs": [
        {
          "name": "stderr",
          "output_type": "stream",
          "text": [
            "/usr/local/lib/python3.10/dist-packages/torch/nn/modules/module.py:1518: UserWarning: Implicit dimension choice for softmax has been deprecated. Change the call to include dim=X as an argument.\n",
            "  return self._call_impl(*args, **kwargs)\n",
            "/usr/local/lib/python3.10/dist-packages/torch/nn/modules/module.py:1518: UserWarning: Implicit dimension choice for softmax has been deprecated. Change the call to include dim=X as an argument.\n",
            "  return self._call_impl(*args, **kwargs)\n",
            "/usr/local/lib/python3.10/dist-packages/torch/nn/modules/module.py:1518: UserWarning: Implicit dimension choice for softmax has been deprecated. Change the call to include dim=X as an argument.\n",
            "  return self._call_impl(*args, **kwargs)\n"
          ]
        }
      ],
      "source": [
        "build_confusion_matrix(model_name+\"_train\", model, train_data, train_label)\n",
        "build_confusion_matrix(model_name+\"_val\", model, val_data, val_label)\n",
        "build_confusion_matrix(model_name+\"_test\", model, test_data, test_label)"
      ]
    },
    {
      "cell_type": "markdown",
      "metadata": {
        "id": "oOX1RtGR8dYM"
      },
      "source": [
        "## SVM Model with Polynomial Kernel"
      ]
    },
    {
      "cell_type": "code",
      "execution_count": null,
      "metadata": {
        "colab": {
          "background_save": true
        },
        "id": "1FoplJcH8foL"
      },
      "outputs": [],
      "source": [
        "train_data = np.reshape(train_df[[\"x1\", \"x2\"]].to_numpy(), (-1, 2))\n",
        "train_label = (train_df[\"label\"].astype(int)).to_numpy()\n",
        "\n",
        "val_data = np.reshape(val_df[[\"x1\", \"x2\"]].to_numpy(), (-1, 2))\n",
        "val_label = (val_df[\"label\"].astype(int)).to_numpy()\n",
        "\n",
        "test_data = np.reshape(test_df[[\"x1\", \"x2\"]].to_numpy(), (-1, 2))\n",
        "test_label = (test_df[\"label\"].astype(int)).to_numpy()"
      ]
    },
    {
      "cell_type": "code",
      "execution_count": null,
      "metadata": {
        "colab": {
          "background_save": true
        },
        "id": "mdYI_Wyg8ve9"
      },
      "outputs": [],
      "source": [
        "degree = [1, 2, 3, 4, 6]\n",
        "accuracy = {\"degree\" : [], \"Train Accuracy\" : [], \"Val Accuracy\" : [], \"Test Accuracy\" : []}\n",
        "\n",
        "for deg_ in degree:\n",
        "    model_name = f\"svm, poly, deg={deg_}\"\n",
        "    model = plot_training_data_with_decision_boundary(\"polynomial\", train_data, train_label, model_name, degree=deg_)\n",
        "\n",
        "    accuracy[\"degree\"].append(deg_)\n",
        "    train_pred = model.predict(train_data)\n",
        "    train_accuracy = accuracy_score(train_pred, train_label)\n",
        "    accuracy[\"Train Accuracy\"].append(train_accuracy)\n",
        "\n",
        "    val_pred = model.predict(val_data)\n",
        "    val_accuracy = accuracy_score(val_pred, val_label)\n",
        "    accuracy[\"Val Accuracy\"].append(val_accuracy)\n",
        "\n",
        "    test_pred = model.predict(test_data)\n",
        "    test_accuracy = accuracy_score(test_pred, test_label)\n",
        "    accuracy[\"Test Accuracy\"].append(test_accuracy)\n",
        "\n",
        "    build_confusion_matrix_svm(model_name + \"_train\", model, train_data, train_label)\n",
        "    build_confusion_matrix_svm(model_name + \"_val\", model, val_data, val_label)\n",
        "    build_confusion_matrix_svm(model_name + \"_test\", model, test_data, test_label)\n",
        "\n",
        "df = pd.DataFrame(accuracy)\n",
        "df.to_csv(\"svm_poly.csv\", index=False)"
      ]
    },
    {
      "cell_type": "markdown",
      "metadata": {
        "id": "rFdrr1rMFWJi"
      },
      "source": [
        "## SVM Model with Gaussian Kernel"
      ]
    },
    {
      "cell_type": "code",
      "execution_count": null,
      "metadata": {
        "colab": {
          "background_save": true
        },
        "id": "wRDMFyMtFZYm"
      },
      "outputs": [],
      "source": [
        "train_data = np.reshape(train_df[[\"x1\", \"x2\"]].to_numpy(), (-1, 2))\n",
        "train_label = (train_df[\"label\"].astype(int)).to_numpy()\n",
        "\n",
        "val_data = np.reshape(val_df[[\"x1\", \"x2\"]].to_numpy(), (-1, 2))\n",
        "val_label = (val_df[\"label\"].astype(int)).to_numpy()\n",
        "\n",
        "test_data = np.reshape(test_df[[\"x1\", \"x2\"]].to_numpy(), (-1, 2))\n",
        "test_label = (test_df[\"label\"].astype(int)).to_numpy()"
      ]
    },
    {
      "cell_type": "code",
      "execution_count": null,
      "metadata": {
        "id": "xyS1RxPKFeF2"
      },
      "outputs": [],
      "source": [
        "gamma = [100, 10, 1, 1e-1, 1e-2]\n",
        "accuracy = {\"gamma\" : [], \"Train Accuracy\" : [], \"Val Accuracy\" : [], \"Test Accuracy\" : []}\n",
        "\n",
        "for gamma_ in gamma:\n",
        "    model_name = f\"svm, gaussian, gamma={gamma_}\"\n",
        "    model = plot_training_data_with_decision_boundary(\"gaussian\", train_data, train_label, model_name, gamma=gamma_)\n",
        "\n",
        "    accuracy[\"gamma\"].append(deg_)\n",
        "    train_pred = model.predict(train_data)\n",
        "    train_accuracy = accuracy_score(train_pred, train_label)\n",
        "    accuracy[\"Train Accuracy\"].append(train_accuracy)\n",
        "\n",
        "    val_pred = model.predict(val_data)\n",
        "    val_accuracy = accuracy_score(val_pred, val_label)\n",
        "    accuracy[\"Val Accuracy\"].append(val_accuracy)\n",
        "\n",
        "    test_pred = model.predict(test_data)\n",
        "    test_accuracy = accuracy_score(test_pred, test_label)\n",
        "    accuracy[\"Test Accuracy\"].append(test_accuracy)\n",
        "\n",
        "    build_confusion_matrix_svm(model_name + \"_train\", model, train_data, train_label)\n",
        "    build_confusion_matrix_svm(model_name + \"_val\", model, val_data, val_label)\n",
        "    build_confusion_matrix_svm(model_name + \"_test\", model, test_data, test_label)\n",
        "\n",
        "df = pd.DataFrame(accuracy)\n",
        "df.to_csv(\"svm_gaussian.csv\", index=False)"
      ]
    },
    {
      "cell_type": "markdown",
      "metadata": {
        "id": "dFksWe5GHnwP"
      },
      "source": [
        "# Dataset 2 without Principal Component Analysis"
      ]
    },
    {
      "cell_type": "code",
      "execution_count": null,
      "metadata": {
        "colab": {
          "background_save": true
        },
        "id": "FEuRIrsPHwvx"
      },
      "outputs": [],
      "source": [
        "train_data = pd.read_csv(\"./train_data.csv\", header=None)\n",
        "train_label = pd.read_csv(\"./train_label.csv\", header=None)\n",
        "\n",
        "val_data = pd.read_csv(\"./val_data.csv\", header=None)\n",
        "val_label = pd.read_csv(\"./val_label.csv\", header=None)\n",
        "\n",
        "test_data = pd.read_csv(\"./test_data.csv\", header=None)\n",
        "test_label = pd.read_csv(\"./test_label.csv\", header=None)"
      ]
    },
    {
      "cell_type": "markdown",
      "metadata": {
        "id": "AfyaIqeVH1eZ"
      },
      "source": [
        "## MLFFNN Model"
      ]
    },
    {
      "cell_type": "code",
      "execution_count": null,
      "metadata": {
        "colab": {
          "background_save": true
        },
        "id": "Wserrrl_H04o"
      },
      "outputs": [],
      "source": [
        "train_data = torch.tensor(train_data.values, dtype=torch.float32)\n",
        "train_label = torch.tensor(train_label.values, dtype=torch.int64).squeeze()\n",
        "\n",
        "val_data = torch.tensor(val_data.values, dtype=torch.float32)\n",
        "val_label = torch.tensor(val_label.values, dtype=torch.int64).squeeze()\n",
        "\n",
        "test_data = torch.tensor(test_data.values, dtype=torch.float32)\n",
        "test_label = torch.tensor(test_label.values, dtype=torch.int64).squeeze()"
      ]
    },
    {
      "cell_type": "code",
      "execution_count": null,
      "metadata": {
        "colab": {
          "background_save": true
        },
        "id": "_12NUg22IRlC"
      },
      "outputs": [],
      "source": [
        "# num_epochs = 1000\n",
        "# num_hidden_nodes = [40, 60, 80, 100]\n",
        "# lr = 1e-2\n",
        "\n",
        "# train_loader = DataLoader(loader(train_data, train_label), batch_size = 64, shuffle=True)\n",
        "\n",
        "# input_size = train_data.shape[1]\n",
        "\n",
        "# best_val_accuracy = 0\n",
        "# best_model = -1\n",
        "\n",
        "# accuracy = {\"num hidden nodes 1\" : [], \"num hidden nodes 2\" : [], \"Train Accuracy\" : [], \"Val Accuracy\" : [], \"Test Accuracy\" : []}\n",
        "\n",
        "# index = 0\n",
        "\n",
        "# for hn1 in num_hidden_nodes:\n",
        "#     for hn2 in num_hidden_nodes:\n",
        "#         print(f\"Training: {hn1}, {hn2}\")\n",
        "#         model = MLFFNN(input_size, 2, [hn1, hn2], 5)\n",
        "#         model_name = f\"mlffnn, hidden_nodes1={hn1}, hidden_nodes2={hn2}\"\n",
        "\n",
        "#         criterion = nn.CrossEntropyLoss()\n",
        "#         optimizer = optim.SGD(model.parameters(), lr=lr)\n",
        "\n",
        "#         train(num_epochs, model_name, model, criterion, optimizer, train_loader, train_data, val_data, val_label, verbose=True)\n",
        "\n",
        "#         torch.save(model.state_dict(), f\"mlffnn_model_{index}.pth\")\n",
        "\n",
        "#         accuracy[\"num hidden nodes 1\"].append(hn1)\n",
        "#         accuracy[\"num hidden nodes 2\"].append(hn2)\n",
        "#         accuracy[\"Train Accuracy\"].append(get_accuracy(model, train_data, train_label))\n",
        "#         val_accuracy = get_accuracy(model, val_data, val_label)\n",
        "#         accuracy[\"Val Accuracy\"].append(val_accuracy)\n",
        "#         accuracy[\"Test Accuracy\"].append(get_accuracy(model, test_data, test_label))\n",
        "\n",
        "#         if(best_val_accuracy < val_accuracy):\n",
        "#             best_model = index\n",
        "#             best_val_accuracy = val_accuracy\n",
        "\n",
        "#         index += 1\n",
        "\n",
        "# pd.DataFrame(accuracy).to_csv(\"mlffnn_accuracy.csv\", index=False)"
      ]
    },
    {
      "cell_type": "code",
      "execution_count": null,
      "metadata": {
        "id": "H55g39mjQLsu"
      },
      "outputs": [],
      "source": [
        "final_model = MLFFNN(input_size, 2, [60, 60], 5)\n",
        "final_model.load_state_dict(torch.load(f\"mlffnn_model_{best_model}.pth\"))"
      ]
    },
    {
      "cell_type": "code",
      "execution_count": null,
      "metadata": {
        "id": "bAcGA_ETQ31X"
      },
      "outputs": [],
      "source": [
        "model_name = \"mlffnn, hn1=60, hn2=60\"\n",
        "build_confusion_matrix(model_name+\",train\", model, train_data, train_label)\n",
        "build_confusion_matrix(model_name+\",val\", model, val_data, val_label)\n",
        "build_confusion_matrix(model_name+\",test\", model, test_data, test_label)"
      ]
    },
    {
      "cell_type": "markdown",
      "metadata": {
        "id": "1pIWopDHTH18"
      },
      "source": [
        "## SVM Model with Gaussian Kernel"
      ]
    },
    {
      "cell_type": "code",
      "execution_count": null,
      "metadata": {
        "id": "RtDfqyzJTLI2"
      },
      "outputs": [],
      "source": [
        "train_data = np.reshape(train_data.to_numpy(), (-1, 81))\n",
        "train_label = np.reshape(train_label.to_numpy(dtype=\"int64\"), (-1, ))\n",
        "\n",
        "val_data = np.reshape(val_data.to_numpy(), (-1, 81))\n",
        "val_label = np.reshape(val_label.to_numpy(dtype=\"int64\"), (-1, ))\n",
        "\n",
        "test_data = np.reshape(test_data.to_numpy(), (-1, 81))\n",
        "test_label = np.reshape(test_label.to_numpy(dtype=\"int64\"), (-1, ))"
      ]
    },
    {
      "cell_type": "code",
      "execution_count": null,
      "metadata": {
        "id": "8bEKXFzmTbhG"
      },
      "outputs": [],
      "source": [
        "gamma = [100, 10, 1, 1e-1, 1e-2]\n",
        "accuracy = {\"gamma\" : [], \"Train Accuracy\" : [], \"Val Accuracy\" : [], \"Test Accuracy\" : []}\n",
        "\n",
        "for gamma_ in gamma:\n",
        "    model_name = f\"svm, gaussian, gamma={gamma_}\"\n",
        "\n",
        "    model = SVC(kernel=\"rbf\", gamma=gamma_)\n",
        "    model.fit(train_data, train_label)\n",
        "\n",
        "    accuracy[\"gamma\"].append(gamma_)\n",
        "    train_pred = model.predict(train_data)\n",
        "    train_accuracy = accuracy_score(train_pred, train_label)\n",
        "    accuracy[\"Train Accuracy\"].append(train_accuracy)\n",
        "\n",
        "    val_pred = model.predict(val_data)\n",
        "    val_accuracy = accuracy_score(val_pred, val_label)\n",
        "    accuracy[\"Val Accuracy\"].append(val_accuracy)\n",
        "\n",
        "    test_pred = model.predict(test_data)\n",
        "    test_accuracy = accuracy_score(test_pred, test_label)\n",
        "    accuracy[\"Test Accuracy\"].append(test_accuracy)\n",
        "\n",
        "    build_confusion_matrix_svm(model_name + \"_train\", model, train_data, train_label)\n",
        "    build_confusion_matrix_svm(model_name + \"_val\", model, val_data, val_label)\n",
        "    build_confusion_matrix_svm(model_name + \"_test\", model, test_data, test_label)\n",
        "\n",
        "df = pd.DataFrame(accuracy)\n",
        "df.to_csv(\"svm_gaussian.csv\", index=False)"
      ]
    },
    {
      "cell_type": "markdown",
      "metadata": {
        "id": "GmSAtAVgUxYO"
      },
      "source": [
        "# Dataset 2 with Principal Component Analysis"
      ]
    },
    {
      "cell_type": "code",
      "execution_count": null,
      "metadata": {
        "id": "AQDLuPJKU1Nf"
      },
      "outputs": [],
      "source": [
        "train_data = pd.read_csv(\"./train_data.csv\", header=None)\n",
        "train_label = pd.read_csv(\"./train_label.csv\", header=None)\n",
        "\n",
        "val_data = pd.read_csv(\"./val_data.csv\", header=None)\n",
        "val_label = pd.read_csv(\"./val_label.csv\", header=None)\n",
        "\n",
        "test_data = pd.read_csv(\"./test_data.csv\", header=None)\n",
        "test_label = pd.read_csv(\"./test_label.csv\", header=None)"
      ]
    },
    {
      "cell_type": "markdown",
      "metadata": {
        "id": "Z1bYL6kFWXaZ"
      },
      "source": [
        "## MLFFNN Model"
      ]
    },
    {
      "cell_type": "code",
      "execution_count": null,
      "metadata": {
        "id": "nqNGgzcSU7MI"
      },
      "outputs": [],
      "source": [
        "train_data = np.reshape(train_data.to_numpy(), (-1, 81))\n",
        "train_label = torch.tensor(train_label.values, dtype=torch.int64).squeeze()\n",
        "\n",
        "val_data = np.reshape(val_data.to_numpy(), (-1, 81))\n",
        "val_label = torch.tensor(val_label.values, dtype=torch.int64).squeeze()\n",
        "\n",
        "test_data = np.reshape(test_data.to_numpy(), (-1, 81))\n",
        "test_label = torch.tensor(test_label.values, dtype=torch.int64).squeeze()"
      ]
    },
    {
      "cell_type": "code",
      "execution_count": null,
      "metadata": {
        "id": "5nE5cBPAU9-l"
      },
      "outputs": [],
      "source": [
        "reduced_dim = [40, 60]\n",
        "\n",
        "index = 0\n",
        "\n",
        "accuracy = {\"dim\" : [], \"num hidden nodes 1\" : [], \"num hidden nodes 2\" : [], \"Train Accuracy\" : [], \"Val Accuracy\" : [], \"Test Accuracy\" : []}\n",
        "\n",
        "for dim_ in reduced_dim:\n",
        "    pca = PCA(n_components=dim_)\n",
        "\n",
        "    train_data_ = pca.fit_transform(train_data)\n",
        "    val_data_ = pca.fit_transform(val_data)\n",
        "    test_data_ = pca.fit_transform(test_data)\n",
        "\n",
        "    train_data_ = torch.tensor(train_data_, dtype=torch.float32)\n",
        "    val_data_ = torch.tensor(val_data_, dtype=torch.float32)\n",
        "    test_data_ = torch.tensor(test_data_, dtype=torch.float32)\n",
        "\n",
        "    num_epochs = 1000\n",
        "    num_hidden_nodes = [40, 60]\n",
        "    lr = 1e-2\n",
        "\n",
        "    train_loader = DataLoader(loader(train_data_, train_label), batch_size = 64, shuffle=True)\n",
        "\n",
        "    input_size = train_data.shape[1]\n",
        "\n",
        "    best_val_accuracy = 0\n",
        "    best_model = -1\n",
        "\n",
        "    for hn1 in num_hidden_nodes:\n",
        "        for hn2 in num_hidden_nodes:\n",
        "            print(f\"Training: {hn1}, {hn2}\")\n",
        "            model = MLFFNN(dim_, 2, [hn1, hn2], 5)\n",
        "            model_name = f\"mlffnn, input_dim={dim_} hidden_nodes1={hn1}, hidden_nodes2={hn2}\"\n",
        "\n",
        "            criterion = nn.CrossEntropyLoss()\n",
        "            optimizer = optim.SGD(model.parameters(), lr=lr)\n",
        "\n",
        "            train(num_epochs, model_name, model, criterion, optimizer, train_loader, train_data, val_data_, val_label, verbose=True)\n",
        "\n",
        "            torch.save(model.state_dict(), f\"mlffnn_model_{index}.pth\")\n",
        "\n",
        "            accuracy[\"dim\"].append(dim_)\n",
        "            accuracy[\"num hidden nodes 1\"].append(hn1)\n",
        "            accuracy[\"num hidden nodes 2\"].append(hn2)\n",
        "            accuracy[\"Train Accuracy\"].append(get_accuracy(model, train_data_, train_label))\n",
        "            val_accuracy = get_accuracy(model, val_data_, val_label)\n",
        "            accuracy[\"Val Accuracy\"].append(val_accuracy)\n",
        "            accuracy[\"Test Accuracy\"].append(get_accuracy(model, test_data_, test_label))\n",
        "\n",
        "            if(best_val_accuracy < val_accuracy):\n",
        "                best_model = index\n",
        "                best_val_accuracy = val_accuracy\n",
        "\n",
        "            index += 1\n",
        "\n",
        "pd.DataFrame(accuracy).to_csv(\"mlffnn_accuracy.csv\", index=False)"
      ]
    },
    {
      "cell_type": "code",
      "execution_count": null,
      "metadata": {
        "id": "AZsLrnTOv-ji"
      },
      "outputs": [],
      "source": [
        "final_model = MLFFNN(60, 2, [40,60], 5)\n",
        "final_model.load_state_dict(torch.load(f\"mlffnn_model_{best_model}.pth\"))"
      ]
    },
    {
      "cell_type": "code",
      "execution_count": null,
      "metadata": {
        "id": "2vWm0FnGv_Xq"
      },
      "outputs": [],
      "source": [
        "model_name = \"mlffnn, dim=60, hn1=40, hn2=60\"\n",
        "\n",
        "pca = PCA(n_components=60)\n",
        "\n",
        "train_data_ = pca.fit_transform(train_data)\n",
        "val_data_ = pca.fit_transform(val_data)\n",
        "test_data_ = pca.fit_transform(test_data)\n",
        "\n",
        "train_data_ = torch.tensor(train_data_, dtype=torch.float32)\n",
        "val_data_ = torch.tensor(val_data_, dtype=torch.float32)\n",
        "test_data_ = torch.tensor(test_data_, dtype=torch.float32)\n",
        "\n",
        "build_confusion_matrix(model_name+\",train\", model, train_data_, train_label)\n",
        "build_confusion_matrix(model_name+\",val\", model, val_data_, val_label)\n",
        "build_confusion_matrix(model_name+\",test\", model, test_data_, test_label)"
      ]
    },
    {
      "cell_type": "markdown",
      "metadata": {
        "id": "3OpCEyOEdktG"
      },
      "source": [
        "## SVM Model with Gaussian Kernel"
      ]
    },
    {
      "cell_type": "code",
      "execution_count": null,
      "metadata": {
        "id": "Sxh4bCk4dmvm"
      },
      "outputs": [],
      "source": [
        "train_data = np.reshape(train_data.to_numpy(), (-1, 81))\n",
        "train_label = np.reshape(train_label.to_numpy(dtype=\"int64\"), (-1, ))\n",
        "\n",
        "val_data = np.reshape(val_data.to_numpy(), (-1, 81))\n",
        "val_label = np.reshape(val_label.to_numpy(dtype=\"int64\"), (-1, ))\n",
        "\n",
        "test_data = np.reshape(test_data.to_numpy(), (-1, 81))\n",
        "test_label = np.reshape(test_label.to_numpy(dtype=\"int64\"), (-1, ))"
      ]
    },
    {
      "cell_type": "code",
      "execution_count": null,
      "metadata": {
        "id": "FpGEsH5XduyJ"
      },
      "outputs": [],
      "source": [
        "reduced_dim = [40, 60]\n",
        "accuracy = {\"reduced_dim\" : [], \"gamma\" : [], \"Train Accuracy\" : [], \"Val Accuracy\" : [], \"Test Accuracy\" : []}\n",
        "\n",
        "for dim_ in reduced_dim:\n",
        "    pca = PCA(n_components=dim_)\n",
        "\n",
        "    train_data_ = pca.fit_transform(train_data)\n",
        "    val_data_ = pca.fit_transform(val_data)\n",
        "    test_data_ = pca.fit_transform(test_data)\n",
        "\n",
        "    gamma = [100, 10, 1, 1e-1, 1e-2]\n",
        "\n",
        "    for gamma_ in gamma:\n",
        "        model_name = f\"svm, gaussian, dim={dim_}, gamma={gamma_}\"\n",
        "\n",
        "        model = SVC(kernel=\"rbf\", gamma=gamma_)\n",
        "        model.fit(train_data_, train_label)\n",
        "\n",
        "        accuracy[\"reduced_dim\"].append(dim_)\n",
        "        accuracy[\"gamma\"].append(gamma_)\n",
        "        train_pred = model.predict(train_data_)\n",
        "        train_accuracy = accuracy_score(train_pred, train_label)\n",
        "        accuracy[\"Train Accuracy\"].append(train_accuracy)\n",
        "\n",
        "        val_pred = model.predict(val_data_)\n",
        "        val_accuracy = accuracy_score(val_pred, val_label)\n",
        "        accuracy[\"Val Accuracy\"].append(val_accuracy)\n",
        "\n",
        "        test_pred = model.predict(test_data_)\n",
        "        test_accuracy = accuracy_score(test_pred, test_label)\n",
        "        accuracy[\"Test Accuracy\"].append(test_accuracy)\n",
        "\n",
        "        build_confusion_matrix_svm(model_name + \"_train\", model, train_data_, train_label)\n",
        "        build_confusion_matrix_svm(model_name + \"_val\", model, val_data_, val_label)\n",
        "        build_confusion_matrix_svm(model_name + \"_test\", model, test_data_, test_label)\n",
        "\n",
        "    df = pd.DataFrame(accuracy)\n",
        "    df.to_csv(\"svm_gaussian.csv\", index=False)"
      ]
    },
    {
      "cell_type": "code",
      "execution_count": null,
      "metadata": {
        "id": "Sy0siTW8GvE6"
      },
      "outputs": [],
      "source": [
        "! rm -rf svm_nopca"
      ]
    },
    {
      "cell_type": "code",
      "execution_count": null,
      "metadata": {
        "id": "nPnnghEbGkng"
      },
      "outputs": [],
      "source": [
        "! mv svm* /content/svm_pca"
      ]
    },
    {
      "cell_type": "code",
      "execution_count": null,
      "metadata": {
        "id": "M_zxhcnKGsqB"
      },
      "outputs": [],
      "source": [
        "! zip -r svm_pca.zip svm_pca"
      ]
    },
    {
      "cell_type": "code",
      "execution_count": null,
      "metadata": {
        "id": "dAd2GxO_G4Lm"
      },
      "outputs": [],
      "source": []
    }
  ],
  "metadata": {
    "accelerator": "GPU",
    "colab": {
      "collapsed_sections": [
        "m1UlA4e0J7HD",
        "-HsY-ASQKHV5",
        "Cpk3NskVKDFg",
        "8jzAntVlbdSi",
        "g36mbL_LBN0t",
        "OJcTlYltiHum",
        "06Puj-qo9MmY",
        "PFJl1eTdb20b",
        "pR7I9Y83eL8J",
        "zYnT_ZWJxvac",
        "oOX1RtGR8dYM",
        "rFdrr1rMFWJi",
        "dFksWe5GHnwP",
        "GmSAtAVgUxYO"
      ],
      "provenance": []
    },
    "kernelspec": {
      "display_name": "Python 3",
      "name": "python3"
    },
    "language_info": {
      "name": "python"
    }
  },
  "nbformat": 4,
  "nbformat_minor": 0
}